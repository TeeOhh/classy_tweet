{
 "cells": [
  {
   "cell_type": "markdown",
   "metadata": {},
   "source": [
    "### Example found at: http://zacstewart.com/2015/04/28/document-classification-with-scikit-learn.html"
   ]
  },
  {
   "cell_type": "markdown",
   "metadata": {},
   "source": [
    "## 1: Positive, 0: Negative, 0.5: Neutral"
   ]
  },
  {
   "cell_type": "code",
   "execution_count": 1,
   "metadata": {
    "scrolled": false
   },
   "outputs": [
    {
     "data": {
      "text/html": [
       "<div>\n",
       "<style>\n",
       "    .dataframe thead tr:only-child th {\n",
       "        text-align: right;\n",
       "    }\n",
       "\n",
       "    .dataframe thead th {\n",
       "        text-align: left;\n",
       "    }\n",
       "\n",
       "    .dataframe tbody tr th {\n",
       "        vertical-align: top;\n",
       "    }\n",
       "</style>\n",
       "<table border=\"1\" class=\"dataframe\">\n",
       "  <thead>\n",
       "    <tr style=\"text-align: right;\">\n",
       "      <th></th>\n",
       "      <th>label</th>\n",
       "      <th>tweet_text</th>\n",
       "    </tr>\n",
       "  </thead>\n",
       "  <tbody>\n",
       "    <tr>\n",
       "      <th>0</th>\n",
       "      <td>against</td>\n",
       "      <td>b'million unborn children have lost their live...</td>\n",
       "    </tr>\n",
       "    <tr>\n",
       "      <th>1</th>\n",
       "      <td>against</td>\n",
       "      <td>b'#prolife #parenthood #babies #motherhood #pr...</td>\n",
       "    </tr>\n",
       "    <tr>\n",
       "      <th>2</th>\n",
       "      <td>against</td>\n",
       "      <td>b'definitely not safe for baby'</td>\n",
       "    </tr>\n",
       "    <tr>\n",
       "      <th>3</th>\n",
       "      <td>against</td>\n",
       "      <td>b'i think she wants to see herself as #prolife...</td>\n",
       "    </tr>\n",
       "    <tr>\n",
       "      <th>4</th>\n",
       "      <td>against</td>\n",
       "      <td>b'I hate abortion'</td>\n",
       "    </tr>\n",
       "  </tbody>\n",
       "</table>\n",
       "</div>"
      ],
      "text/plain": [
       "     label                                         tweet_text\n",
       "0  against  b'million unborn children have lost their live...\n",
       "1  against  b'#prolife #parenthood #babies #motherhood #pr...\n",
       "2  against                    b'definitely not safe for baby'\n",
       "3  against  b'i think she wants to see herself as #prolife...\n",
       "4  against                                 b'I hate abortion'"
      ]
     },
     "execution_count": 1,
     "metadata": {},
     "output_type": "execute_result"
    }
   ],
   "source": [
    "import pandas as pd\n",
    "import numpy as np\n",
    "df = pd.read_csv('abortion_data_clean.csv', usecols=['label', 'tweet_text'])\n",
    "df = df.replace('1', 'for')\n",
    "df = df.replace('0', 'against')\n",
    "df = df.fillna(0.5)\n",
    "df = df.replace(0.5, 'neutral')\n",
    "df['tweet_text'] = df['tweet_text'].str.encode('utf-8')\n",
    "df = df.dropna(axis=0, how='any')\n",
    "df.head()"
   ]
  },
  {
   "cell_type": "markdown",
   "metadata": {},
   "source": [
    "## Multinomial Naive Bayes"
   ]
  },
  {
   "cell_type": "code",
   "execution_count": 2,
   "metadata": {
    "collapsed": true
   },
   "outputs": [],
   "source": [
    "from sklearn.feature_extraction.text import CountVectorizer\n",
    "from sklearn.naive_bayes import MultinomialNB\n",
    "from sklearn.pipeline import Pipeline\n",
    "\n",
    "pipeline = Pipeline([\n",
    "    ('vectorizer',  CountVectorizer(binary=False)),\n",
    "    ('classifier',  MultinomialNB()) ])\n"
   ]
  },
  {
   "cell_type": "code",
   "execution_count": 3,
   "metadata": {},
   "outputs": [
    {
     "name": "stderr",
     "output_type": "stream",
     "text": [
      "/home/taylor/anaconda3/lib/python3.6/site-packages/sklearn/cross_validation.py:41: DeprecationWarning: This module was deprecated in version 0.18 in favor of the model_selection module into which all the refactored classes and functions are moved. Also note that the interface of the new CV iterators are different from that of this module. This module will be removed in 0.20.\n",
      "  \"This module will be removed in 0.20.\", DeprecationWarning)\n"
     ]
    },
    {
     "name": "stdout",
     "output_type": "stream",
     "text": [
      "Total tweets classified: 3180\n",
      "Score: 0.696855345912\n"
     ]
    }
   ],
   "source": [
    "from sklearn.cross_validation import KFold\n",
    "from sklearn.metrics import confusion_matrix, f1_score\n",
    "\n",
    "k_fold = KFold(n=len(df), n_folds=6)\n",
    "scores = []\n",
    "#confusion = np.array([[0, 0, 0], [0, 0, 0], [0, 0, 0]])\n",
    "for train_indices, test_indices in k_fold:\n",
    "    train_text = df.iloc[train_indices]['tweet_text'].values\n",
    "    train_y = df.iloc[train_indices]['label'].values\n",
    "\n",
    "    test_text = df.iloc[test_indices]['tweet_text'].values\n",
    "    test_y = df.iloc[test_indices]['label'].values\n",
    "\n",
    "    pipeline.fit(train_text, train_y)\n",
    "    predictions = pipeline.predict(test_text)\n",
    "\n",
    "    #confusion += confusion_matrix(test_y, predictions)\n",
    "    score = f1_score(test_y, predictions, average='micro')\n",
    "    scores.append(score)\n",
    "\n",
    "print('Total tweets classified:', len(df))\n",
    "print('Score:', sum(scores)/len(scores))\n",
    "#print('Confusion matrix:')\n",
    "#print(confusion)"
   ]
  },
  {
   "cell_type": "markdown",
   "metadata": {},
   "source": [
    "examples = ['free on demand no apologies #marchforlife', 'abortion is murder', 'trump speaks on abortion at 4pm']\n",
    "pipeline.predict(examples)"
   ]
  },
  {
   "cell_type": "markdown",
   "metadata": {},
   "source": [
    "## Bernoulli Naive Bayes"
   ]
  },
  {
   "cell_type": "code",
   "execution_count": 4,
   "metadata": {
    "collapsed": true
   },
   "outputs": [],
   "source": [
    "from sklearn.naive_bayes import BernoulliNB\n",
    "\n",
    "bern_pipeline = Pipeline([\n",
    "    ('vectorizer',  CountVectorizer(binary=False)),\n",
    "    ('classifier',         BernoulliNB(binarize=0.0)) ])"
   ]
  },
  {
   "cell_type": "code",
   "execution_count": 5,
   "metadata": {},
   "outputs": [
    {
     "name": "stdout",
     "output_type": "stream",
     "text": [
      "Total tweets classified: 3180\n",
      "Score: 0.666352201258\n"
     ]
    }
   ],
   "source": [
    "bern_k_fold = KFold(n=len(df), n_folds=6)\n",
    "bern_scores = []\n",
    "#confusion = np.array([[0, 0, 0], [0, 0, 0], [0, 0, 0]])\n",
    "for train_indices, test_indices in bern_k_fold:\n",
    "    train_text = df.iloc[train_indices]['tweet_text'].values\n",
    "    train_y = df.iloc[train_indices]['label'].values\n",
    "\n",
    "    test_text = df.iloc[test_indices]['tweet_text'].values\n",
    "    test_y = df.iloc[test_indices]['label'].values\n",
    "\n",
    "    bern_pipeline.fit(train_text, train_y)\n",
    "    predictions = bern_pipeline.predict(test_text)\n",
    "\n",
    "    #confusion += confusion_matrix(test_y, predictions)\n",
    "    score = f1_score(test_y, predictions, average='micro')\n",
    "    bern_scores.append(score)\n",
    "\n",
    "print('Total tweets classified:', len(df))\n",
    "print('Score:', sum(bern_scores)/len(bern_scores))"
   ]
  },
  {
   "cell_type": "code",
   "execution_count": 6,
   "metadata": {},
   "outputs": [
    {
     "data": {
      "text/plain": [
       "array(['neutral', 'against', 'neutral'],\n",
       "      dtype='<U7')"
      ]
     },
     "execution_count": 6,
     "metadata": {},
     "output_type": "execute_result"
    }
   ],
   "source": [
    "examples = ['free on demand no apologies #marchforlife', 'abortion is murder', 'trump speaks on abortion at 4pm']\n",
    "bern_pipeline.predict(examples)"
   ]
  },
  {
   "cell_type": "markdown",
   "metadata": {
    "collapsed": true
   },
   "source": [
    "### Support Vector Machine"
   ]
  },
  {
   "cell_type": "code",
   "execution_count": 7,
   "metadata": {},
   "outputs": [
    {
     "data": {
      "text/html": [
       "<div>\n",
       "<style>\n",
       "    .dataframe thead tr:only-child th {\n",
       "        text-align: right;\n",
       "    }\n",
       "\n",
       "    .dataframe thead th {\n",
       "        text-align: left;\n",
       "    }\n",
       "\n",
       "    .dataframe tbody tr th {\n",
       "        vertical-align: top;\n",
       "    }\n",
       "</style>\n",
       "<table border=\"1\" class=\"dataframe\">\n",
       "  <thead>\n",
       "    <tr style=\"text-align: right;\">\n",
       "      <th></th>\n",
       "      <th>label</th>\n",
       "      <th>tweet_text</th>\n",
       "    </tr>\n",
       "  </thead>\n",
       "  <tbody>\n",
       "    <tr>\n",
       "      <th>0</th>\n",
       "      <td>for</td>\n",
       "      <td>b'along party lines fetal remains burial crema...</td>\n",
       "    </tr>\n",
       "    <tr>\n",
       "      <th>1</th>\n",
       "      <td>for</td>\n",
       "      <td>b'but firstanother bill in #ohio senate this w...</td>\n",
       "    </tr>\n",
       "    <tr>\n",
       "      <th>2</th>\n",
       "      <td>for</td>\n",
       "      <td>b'stand by for onslaught of triggered liberals...</td>\n",
       "    </tr>\n",
       "    <tr>\n",
       "      <th>3</th>\n",
       "      <td>for</td>\n",
       "      <td>b'are good for society there i said it #notsor...</td>\n",
       "    </tr>\n",
       "    <tr>\n",
       "      <th>4</th>\n",
       "      <td>for</td>\n",
       "      <td>b'to those fucks who go around spewing their v...</td>\n",
       "    </tr>\n",
       "  </tbody>\n",
       "</table>\n",
       "</div>"
      ],
      "text/plain": [
       "  label                                         tweet_text\n",
       "0   for  b'along party lines fetal remains burial crema...\n",
       "1   for  b'but firstanother bill in #ohio senate this w...\n",
       "2   for  b'stand by for onslaught of triggered liberals...\n",
       "3   for  b'are good for society there i said it #notsor...\n",
       "4   for  b'to those fucks who go around spewing their v..."
      ]
     },
     "execution_count": 7,
     "metadata": {},
     "output_type": "execute_result"
    }
   ],
   "source": [
    "train_df = pd.read_csv('training_data.csv', usecols=['label', 'tweet_text'])\n",
    "train_df = train_df.replace(1, 'for')\n",
    "train_df = train_df.replace(0, 'against')\n",
    "train_df = train_df.fillna(0.5)\n",
    "train_df = train_df.replace(0.5, 'neutral')\n",
    "train_df['tweet_text'] = train_df['tweet_text'].str.encode('utf-8')\n",
    "train_df = train_df.dropna(axis=0, how='any')\n",
    "train_df.head()"
   ]
  },
  {
   "cell_type": "code",
   "execution_count": 8,
   "metadata": {},
   "outputs": [
    {
     "data": {
      "text/html": [
       "<div>\n",
       "<style>\n",
       "    .dataframe thead tr:only-child th {\n",
       "        text-align: right;\n",
       "    }\n",
       "\n",
       "    .dataframe thead th {\n",
       "        text-align: left;\n",
       "    }\n",
       "\n",
       "    .dataframe tbody tr th {\n",
       "        vertical-align: top;\n",
       "    }\n",
       "</style>\n",
       "<table border=\"1\" class=\"dataframe\">\n",
       "  <thead>\n",
       "    <tr style=\"text-align: right;\">\n",
       "      <th></th>\n",
       "      <th>label</th>\n",
       "      <th>tweet_text</th>\n",
       "    </tr>\n",
       "  </thead>\n",
       "  <tbody>\n",
       "    <tr>\n",
       "      <th>0</th>\n",
       "      <td>against</td>\n",
       "      <td>b'million unborn children have lost their live...</td>\n",
       "    </tr>\n",
       "    <tr>\n",
       "      <th>1</th>\n",
       "      <td>against</td>\n",
       "      <td>b'#prolife #parenthood #babies #motherhood #pr...</td>\n",
       "    </tr>\n",
       "    <tr>\n",
       "      <th>2</th>\n",
       "      <td>against</td>\n",
       "      <td>b'definitely not safe for baby'</td>\n",
       "    </tr>\n",
       "    <tr>\n",
       "      <th>3</th>\n",
       "      <td>against</td>\n",
       "      <td>b'i think she wants to see herself as #prolife...</td>\n",
       "    </tr>\n",
       "    <tr>\n",
       "      <th>4</th>\n",
       "      <td>against</td>\n",
       "      <td>b'I hate abortion'</td>\n",
       "    </tr>\n",
       "  </tbody>\n",
       "</table>\n",
       "</div>"
      ],
      "text/plain": [
       "     label                                         tweet_text\n",
       "0  against  b'million unborn children have lost their live...\n",
       "1  against  b'#prolife #parenthood #babies #motherhood #pr...\n",
       "2  against                    b'definitely not safe for baby'\n",
       "3  against  b'i think she wants to see herself as #prolife...\n",
       "4  against                                 b'I hate abortion'"
      ]
     },
     "execution_count": 8,
     "metadata": {},
     "output_type": "execute_result"
    }
   ],
   "source": [
    "test_df = pd.read_csv('abortion_data_clean.csv', usecols=['label', 'tweet_text'])\n",
    "test_df = test_df.replace('1', 'for')\n",
    "test_df = test_df.replace('0', 'against')\n",
    "test_df = test_df.fillna(0.5)\n",
    "test_df = test_df.replace(0.5, 'neutral')\n",
    "test_df['tweet_text'] = test_df['tweet_text'].str.encode('utf-8')\n",
    "test_df = test_df.dropna(axis=0, how='any')\n",
    "test_df.head()"
   ]
  },
  {
   "cell_type": "markdown",
   "metadata": {},
   "source": [
    "### rbf kernel"
   ]
  },
  {
   "cell_type": "code",
   "execution_count": 9,
   "metadata": {
    "collapsed": true
   },
   "outputs": [],
   "source": [
    "from sklearn import svm\n",
    "svm_rbf_pipeline = Pipeline([\n",
    "    ('vectorizer',  CountVectorizer(binary=False)),\n",
    "    ('classifier',         svm.SVC(C=1.0, cache_size=200, class_weight=None, coef0=0.0,\n",
    "    decision_function_shape='ovo', degree=3, gamma='auto', kernel='rbf',\n",
    "    max_iter=-1, probability=True, random_state=None, shrinking=True,\n",
    "    tol=0.001, verbose=False)) ])\n",
    "\n",
    "x = train_df.iloc[:]['tweet_text'].values\n",
    "y = train_df.iloc[:]['label'].values\n",
    "\n",
    "\n",
    "test_x = test_df.iloc[:]['tweet_text'].values\n",
    "test_y = test_df.iloc[:]['label'].values"
   ]
  },
  {
   "cell_type": "code",
   "execution_count": 10,
   "metadata": {},
   "outputs": [
    {
     "name": "stdout",
     "output_type": "stream",
     "text": [
      "['against' 'against' 'against' ..., 'against' 'against' 'against']\n"
     ]
    },
    {
     "data": {
      "text/plain": [
       "0.25188679245283019"
      ]
     },
     "execution_count": 10,
     "metadata": {},
     "output_type": "execute_result"
    }
   ],
   "source": [
    "svm_rbf_pipeline.fit(x, y)\n",
    "predicted = svm_rbf_pipeline.predict(test_x)\n",
    "print(predicted)\n",
    "np.mean(predicted == test_y) "
   ]
  },
  {
   "cell_type": "markdown",
   "metadata": {},
   "source": [
    "### linear kernel"
   ]
  },
  {
   "cell_type": "code",
   "execution_count": 14,
   "metadata": {
    "collapsed": true
   },
   "outputs": [],
   "source": [
    "svm_linear_pipeline = Pipeline([\n",
    "    ('vectorizer',  CountVectorizer(binary=True, ngram_range=(1,2))),\n",
    "    ('classifier',         svm.SVC(C=1.0, cache_size=200, class_weight=None, coef0=0.0,\n",
    "    decision_function_shape='ovo', degree=3, gamma='auto', kernel='linear',\n",
    "    max_iter=-1, probability=True, random_state=None, shrinking=True,\n",
    "    tol=0.001, verbose=False)) ])"
   ]
  },
  {
   "cell_type": "code",
   "execution_count": 15,
   "metadata": {},
   "outputs": [
    {
     "name": "stdout",
     "output_type": "stream",
     "text": [
      "['against' 'against' 'against' ..., 'for' 'for' 'against']\n"
     ]
    },
    {
     "data": {
      "text/plain": [
       "0.86603773584905663"
      ]
     },
     "execution_count": 15,
     "metadata": {},
     "output_type": "execute_result"
    }
   ],
   "source": [
    "svm_linear_pipeline.fit(x, y)\n",
    "linear_predicted = svm_linear_pipeline.predict(test_x)\n",
    "print(linear_predicted)\n",
    "np.mean(linear_predicted == test_y)"
   ]
  },
  {
   "cell_type": "markdown",
   "metadata": {},
   "source": [
    "## KN neighbors"
   ]
  },
  {
   "cell_type": "code",
   "execution_count": null,
   "metadata": {},
   "outputs": [],
   "source": [
    "from sklearn.neighbors import KNeighborsClassifier\n",
    "\n",
    "kn_pipeline = Pipeline([\n",
    "    ('vectorizer',  CountVectorizer(binary=True, ngram_range=(1,2))),\n",
    "    ('classifier',  KNeighborsClassifier(n_neighbors=1)) ])\n",
    "\n",
    "kn_pipeline.fit(x, y)\n",
    "kn_pipeline_predicted = kn_pipeline.predict(test_x)\n",
    "print(kn_pipeline_predicted)\n",
    "np.mean(kn_pipeline_predicted == test_y)\n"
   ]
  },
  {
   "cell_type": "code",
   "execution_count": null,
   "metadata": {
    "collapsed": true
   },
   "outputs": [],
   "source": []
  }
 ],
 "metadata": {
  "kernelspec": {
   "display_name": "Python 3",
   "language": "python",
   "name": "python3"
  },
  "language_info": {
   "codemirror_mode": {
    "name": "ipython",
    "version": 3
   },
   "file_extension": ".py",
   "mimetype": "text/x-python",
   "name": "python",
   "nbconvert_exporter": "python",
   "pygments_lexer": "ipython3",
   "version": "3.6.1"
  }
 },
 "nbformat": 4,
 "nbformat_minor": 2
}
